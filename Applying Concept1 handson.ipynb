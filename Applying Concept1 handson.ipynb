{
 "cells": [
  {
   "cell_type": "code",
   "execution_count": 2,
   "metadata": {},
   "outputs": [
    {
     "name": "stdout",
     "output_type": "stream",
     "text": [
      "22\n",
      "23\n",
      "Age is 24\n",
      "None\n"
     ]
    }
   ],
   "source": [
    "class employee():\n",
    "    def __init__(self,name,age,salary):\n",
    "        self.name = name\n",
    "        self.age = age\n",
    "        self.salary = salary\n",
    "    def display(self):\n",
    "        print(\"Age is\",self.age)\n",
    "\n",
    "class childemployee1(employee):\n",
    "    def __init__(self, name, age, salary):\n",
    "        self.name = name\n",
    "        self.age = age\n",
    "        self.salary =salary\n",
    "\n",
    "\n",
    "class childemployee2(childemployee1):\n",
    "    def __init__(self, name, age, salary):\n",
    "        self.name = name\n",
    "        self.age = age\n",
    "        self.salary =salary \n",
    "\n",
    "emp1 = employee('harshit',22,1000)\n",
    "emp2 = childemployee1('arjun',23,2000)\n",
    "emp3 = childemployee2('rohan',24,4000)\n",
    "print(emp1.age)\n",
    "print(emp2.age)\n",
    "print(emp3.display())      "
   ]
  },
  {
   "cell_type": "code",
   "execution_count": 3,
   "metadata": {},
   "outputs": [
    {
     "name": "stdout",
     "output_type": "stream",
     "text": [
      "petrol\n",
      "Max speed is 350\n",
      "diesel\n",
      "Max speed is 240\n"
     ]
    }
   ],
   "source": [
    "class Ferrari:\n",
    "    def fuel_type(self):\n",
    "        print('petrol')\n",
    "\n",
    "    def max_speed(self):\n",
    "        print(\"Max speed is 350\")\n",
    "\n",
    "\n",
    "class BMW:\n",
    "    def fuel_type(self):\n",
    "        print('diesel')\n",
    "\n",
    "    def max_speed(self):\n",
    "        print(\"Max speed is 240\")\n",
    "\n",
    "Ferrari = Ferrari()\n",
    "BMW = BMW()\n",
    "\n",
    "for car in (Ferrari,BMW):\n",
    "    car.fuel_type()\n",
    "    car.max_speed()"
   ]
  }
 ],
 "metadata": {
  "kernelspec": {
   "display_name": "Python 3",
   "language": "python",
   "name": "python3"
  },
  "language_info": {
   "codemirror_mode": {
    "name": "ipython",
    "version": 3
   },
   "file_extension": ".py",
   "mimetype": "text/x-python",
   "name": "python",
   "nbconvert_exporter": "python",
   "pygments_lexer": "ipython3",
   "version": "3.11.1"
  },
  "orig_nbformat": 4,
  "vscode": {
   "interpreter": {
    "hash": "81b007f30950d92ff3e46f0d8894f34ca61157fe07c0a032d4f790877ab746ab"
   }
  }
 },
 "nbformat": 4,
 "nbformat_minor": 2
}
